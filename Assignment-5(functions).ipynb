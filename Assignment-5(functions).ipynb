{
 "cells": [
  {
   "cell_type": "code",
   "execution_count": 4,
   "id": "d0188d95",
   "metadata": {},
   "outputs": [],
   "source": [
    "# 1. Define a function which will return Max of three numbers\n",
    "def threenumbers(a,b,c):\n",
    "    if a>b or a>c:\n",
    "        return(a)\n",
    "    elif b>a or b>c:\n",
    "        return(b)\n",
    "    else:\n",
    "        c>a or c>b\n",
    "        return(c)"
   ]
  },
  {
   "cell_type": "code",
   "execution_count": 5,
   "id": "07397560",
   "metadata": {},
   "outputs": [
    {
     "data": {
      "text/plain": [
       "6"
      ]
     },
     "execution_count": 5,
     "metadata": {},
     "output_type": "execute_result"
    }
   ],
   "source": [
    "threenumbers(5,6,7)"
   ]
  },
  {
   "cell_type": "code",
   "execution_count": 6,
   "id": "86cc399e",
   "metadata": {},
   "outputs": [
    {
     "name": "stdout",
     "output_type": "stream",
     "text": [
      "Enter string :Hemanth\n",
      "The reverse of a string is :htnameH\n"
     ]
    }
   ],
   "source": [
    "# 2. Define a Python Function to reverse a string.\n",
    "def reverse(x):\n",
    "    y=x[::-1]\n",
    "    return y\n",
    "x=input(\"Enter string :\")\n",
    "print(\"The reverse of a string is :{}\".format(reverse(x))) "
   ]
  },
  {
   "cell_type": "code",
   "execution_count": 8,
   "id": "e87d4eaf",
   "metadata": {},
   "outputs": [],
   "source": [
    "# 3. Write a Python program to define a function that accepts 2 values and return its sum, subtraction and multiplication.\n",
    "def sum(x,y):\n",
    "    return(\"Add {}, Sub {}, Mul {}\".format((x+y),(x-y),(x*y)))\n"
   ]
  },
  {
   "cell_type": "code",
   "execution_count": 9,
   "id": "e059eeed",
   "metadata": {},
   "outputs": [
    {
     "data": {
      "text/plain": [
       "'Add 17, Sub -1, Mul 72'"
      ]
     },
     "execution_count": 9,
     "metadata": {},
     "output_type": "execute_result"
    }
   ],
   "source": [
    "sum(8,9)"
   ]
  },
  {
   "cell_type": "code",
   "execution_count": 12,
   "id": "c6af6f4a",
   "metadata": {},
   "outputs": [],
   "source": [
    "# 4. Define a function that accepts roll number and returns whether the student is present or absent.\n",
    "def Attendence(x):\n",
    "    present=[1,2,3,4,5,7,8,9,10,11,12,122]\n",
    "    if x in present:\n",
    "        return \"Student is present\"\n",
    "    else:\n",
    "        return \"Student is Absent\""
   ]
  },
  {
   "cell_type": "code",
   "execution_count": 13,
   "id": "304f6c5d",
   "metadata": {},
   "outputs": [
    {
     "data": {
      "text/plain": [
       "'Student is Absent'"
      ]
     },
     "execution_count": 13,
     "metadata": {},
     "output_type": "execute_result"
    }
   ],
   "source": [
    "Attendence(33)"
   ]
  },
  {
   "cell_type": "code",
   "execution_count": 15,
   "id": "2c1dee39",
   "metadata": {},
   "outputs": [],
   "source": [
    "# 5. Define a function in python that accepts n values and returns the maximum of n numbers\n",
    "def f1(*x):\n",
    "    max_num=0\n",
    "    for y in x:\n",
    "        if y>max_num:\n",
    "            max_num=y\n",
    "    return max_num"
   ]
  },
  {
   "cell_type": "code",
   "execution_count": 16,
   "id": "1571fe18",
   "metadata": {},
   "outputs": [
    {
     "data": {
      "text/plain": [
       "10"
      ]
     },
     "execution_count": 16,
     "metadata": {},
     "output_type": "execute_result"
    }
   ],
   "source": [
    "f1(1,2,3,4,5,6,7,8,9,10)"
   ]
  },
  {
   "cell_type": "code",
   "execution_count": 17,
   "id": "a74341a5",
   "metadata": {},
   "outputs": [],
   "source": [
    "# 6. Define a function which counts vowels and consonant in a word. \n",
    "def f1(x):\n",
    "    vowels=0\n",
    "    consonants=0\n",
    "    l=list(x)\n",
    "    for y in l:\n",
    "        if y==\"a\" or y==\"e\" or y==\"i\" or y==\"o\" or y==\"u\":\n",
    "            vowels+=1\n",
    "        else:\n",
    "            consonants+=1\n",
    "    return print(\"Number of Vowels= {}, Number of Consonants= {}\".format(vowels,consonants))"
   ]
  },
  {
   "cell_type": "code",
   "execution_count": 19,
   "id": "097c6183",
   "metadata": {},
   "outputs": [
    {
     "name": "stdout",
     "output_type": "stream",
     "text": [
      "Number of Vowels= 2, Number of Consonants= 5\n"
     ]
    }
   ],
   "source": [
    "f1(\"hemanth\")"
   ]
  },
  {
   "cell_type": "code",
   "execution_count": 20,
   "id": "8855ef13",
   "metadata": {},
   "outputs": [],
   "source": [
    "# 7. Define a function that returns Factorial of a number\n",
    "def factorial(n):\n",
    "    if n==1:\n",
    "        return 1\n",
    "    else:\n",
    "        return n*factorial(n-1)"
   ]
  },
  {
   "cell_type": "code",
   "execution_count": 22,
   "id": "e375949d",
   "metadata": {},
   "outputs": [
    {
     "data": {
      "text/plain": [
       "24"
      ]
     },
     "execution_count": 22,
     "metadata": {},
     "output_type": "execute_result"
    }
   ],
   "source": [
    "factorial(4)"
   ]
  },
  {
   "cell_type": "code",
   "execution_count": 23,
   "id": "c5486af1",
   "metadata": {},
   "outputs": [],
   "source": [
    "# 8. Define a function that accepts radius and returns the area of a circle.\n",
    "def area(r):\n",
    "    return print(\"Area of a circle of radius {} is {}\".format(r,(22/7)*r**2))"
   ]
  },
  {
   "cell_type": "code",
   "execution_count": 24,
   "id": "aee153a2",
   "metadata": {},
   "outputs": [
    {
     "name": "stdout",
     "output_type": "stream",
     "text": [
      "Area of a circle of radius 3 is 28.285714285714285\n"
     ]
    }
   ],
   "source": [
    "area(3)"
   ]
  },
  {
   "cell_type": "code",
   "execution_count": 39,
   "id": "accc69bb",
   "metadata": {},
   "outputs": [],
   "source": [
    "# 9. Define a function that takes a number as a parameter and check the number is prime or not.\n",
    "def prime(n):\n",
    "    if n>1:\n",
    "        for y in range(3,n):\n",
    "            if n%y==0:\n",
    "                return \"Number is not Prime\"\n",
    "            else:\n",
    "                return \"Number is Prime\""
   ]
  },
  {
   "cell_type": "code",
   "execution_count": 41,
   "id": "457abae7",
   "metadata": {},
   "outputs": [
    {
     "data": {
      "text/plain": [
       "'Number is Prime'"
      ]
     },
     "execution_count": 41,
     "metadata": {},
     "output_type": "execute_result"
    }
   ],
   "source": [
    "prime(4)"
   ]
  },
  {
   "cell_type": "code",
   "execution_count": 42,
   "id": "b0e6cf26",
   "metadata": {},
   "outputs": [],
   "source": [
    "#10. Mary wants to run a 25-mile marathon. When she attempts to sign up for the marathon, she notices the sign-up sheet\n",
    "#doesn't directly state the marathon's length. Instead, the marathon's length is listed in small, different portions. \n",
    "#Help Mary find out how long the marathon actually is. So create a function that\n",
    "#** Return True if the marathon is 25 miles long, otherwise, return False.\n",
    "def marathon(n):\n",
    "    total=0\n",
    "    for y in n:\n",
    "        total=total+abs(y)\n",
    "    if total==25:\n",
    "        return True\n",
    "    else:\n",
    "        return False"
   ]
  },
  {
   "cell_type": "code",
   "execution_count": 43,
   "id": "f52b3929",
   "metadata": {},
   "outputs": [
    {
     "data": {
      "text/plain": [
       "False"
      ]
     },
     "execution_count": 43,
     "metadata": {},
     "output_type": "execute_result"
    }
   ],
   "source": [
    "marathon([1,2,3,4,5,6,7,8,9,10])"
   ]
  },
  {
   "cell_type": "code",
   "execution_count": 1,
   "id": "a8e25bb6",
   "metadata": {},
   "outputs": [],
   "source": [
    "#11. Create a function that takes a number and returns True if the number is automorphic, False if it isn't.\n",
    "#** number n is automorphic if n^2 ends in n.\n",
    "def autoMorphic(n):\n",
    "    Dn=str(n**2)\n",
    "    if Dn[-1]==str(n):\n",
    "        return True\n",
    "    else:\n",
    "        return False  "
   ]
  },
  {
   "cell_type": "code",
   "execution_count": 2,
   "id": "78bf00f7",
   "metadata": {},
   "outputs": [
    {
     "data": {
      "text/plain": [
       "False"
      ]
     },
     "execution_count": 2,
     "metadata": {},
     "output_type": "execute_result"
    }
   ],
   "source": [
    "autoMorphic(-1)"
   ]
  },
  {
   "cell_type": "code",
   "execution_count": 3,
   "id": "e1d14adc",
   "metadata": {},
   "outputs": [],
   "source": [
    "#12) Create a function, that will take given a, b, c, and do the following:\n",
    "#Add a to itself b times and Check if the result is divisible by c.\n",
    "#and return true if it is divisible by c or false\n",
    "def operation(a,b,c):\n",
    "    total=0\n",
    "    for y in range(b):\n",
    "        total=a+total\n",
    "    if total//c==1:\n",
    "        return True\n",
    "    else: \n",
    "        return False"
   ]
  },
  {
   "cell_type": "code",
   "execution_count": 5,
   "id": "109c1b3c",
   "metadata": {},
   "outputs": [
    {
     "data": {
      "text/plain": [
       "False"
      ]
     },
     "execution_count": 5,
     "metadata": {},
     "output_type": "execute_result"
    }
   ],
   "source": [
    "operation(1,1,4)"
   ]
  },
  {
   "cell_type": "code",
   "execution_count": 6,
   "id": "b04d5ff4",
   "metadata": {},
   "outputs": [],
   "source": [
    "#13) Create a function that changes specific words into emoticons. Given a sentence as a string, \n",
    "#replace the words smile, grin, sad and mad with their corresponding emoticons.\n",
    "#word emoticon\n",
    "#smile :D\n",
    "#grin :)\n",
    "#sad :(\n",
    "#mad :P\n",
    "def emoticons(s):\n",
    "    l=s.split(\" \")\n",
    "    for y in range(len(l)):\n",
    "        if l[y]==\"smile\":\n",
    "            l[y]=\":D\"\n",
    "        elif l[y]==\"grin\":\n",
    "            l[y]=\":)\"\n",
    "        elif l[y]==\"sad\":\n",
    "            l[y]=\":(\"\n",
    "        elif l[y]==\"mad\":\n",
    "            l[y]=\":P\"\n",
    "    return \" \".join(l)    "
   ]
  },
  {
   "cell_type": "code",
   "execution_count": 8,
   "id": "df6871a4",
   "metadata": {},
   "outputs": [
    {
     "data": {
      "text/plain": [
       "'Feel me :('"
      ]
     },
     "execution_count": 8,
     "metadata": {},
     "output_type": "execute_result"
    }
   ],
   "source": [
    "emoticons(\"Feel me sad\")"
   ]
  },
  {
   "cell_type": "code",
   "execution_count": 10,
   "id": "7822e828",
   "metadata": {},
   "outputs": [
    {
     "data": {
      "text/plain": [
       "[1, 4, 9, 16, 25, 36, 49, 64, 81, 100, 121, 144]"
      ]
     },
     "execution_count": 10,
     "metadata": {},
     "output_type": "execute_result"
    }
   ],
   "source": [
    "#14) Write a Python program to square and cube every number in a given list of integers using Lambda\n",
    "list(map(lambda x:x**2,range(1,13)))\n"
   ]
  },
  {
   "cell_type": "code",
   "execution_count": 11,
   "id": "b7135cc1",
   "metadata": {},
   "outputs": [
    {
     "data": {
      "text/plain": [
       "[1, 8, 27, 64, 125, 216, 343, 512, 729, 1000, 1331, 1728]"
      ]
     },
     "execution_count": 11,
     "metadata": {},
     "output_type": "execute_result"
    }
   ],
   "source": [
    "list(map(lambda x:x**3,range(1,13)))"
   ]
  },
  {
   "cell_type": "code",
   "execution_count": 12,
   "id": "596272dd",
   "metadata": {},
   "outputs": [],
   "source": [
    "# 15) Write a Python program to check whether a given string is number or not using Lambda\n",
    "q=lambda s:s.isdigit()"
   ]
  },
  {
   "cell_type": "code",
   "execution_count": 14,
   "id": "3fa15a36",
   "metadata": {},
   "outputs": [
    {
     "data": {
      "text/plain": [
       "False"
      ]
     },
     "execution_count": 14,
     "metadata": {},
     "output_type": "execute_result"
    }
   ],
   "source": [
    "q(\"hemanth\")"
   ]
  },
  {
   "cell_type": "code",
   "execution_count": 16,
   "id": "96c6ca92",
   "metadata": {},
   "outputs": [
    {
     "data": {
      "text/plain": [
       "True"
      ]
     },
     "execution_count": 16,
     "metadata": {},
     "output_type": "execute_result"
    }
   ],
   "source": [
    "q(\"123\")"
   ]
  },
  {
   "cell_type": "code",
   "execution_count": 18,
   "id": "eb9de85d",
   "metadata": {},
   "outputs": [
    {
     "data": {
      "text/plain": [
       "False"
      ]
     },
     "execution_count": 18,
     "metadata": {},
     "output_type": "execute_result"
    }
   ],
   "source": [
    "q(\"hem@123\")"
   ]
  },
  {
   "cell_type": "code",
   "execution_count": null,
   "id": "357773ca",
   "metadata": {},
   "outputs": [],
   "source": []
  }
 ],
 "metadata": {
  "kernelspec": {
   "display_name": "Python 3 (ipykernel)",
   "language": "python",
   "name": "python3"
  },
  "language_info": {
   "codemirror_mode": {
    "name": "ipython",
    "version": 3
   },
   "file_extension": ".py",
   "mimetype": "text/x-python",
   "name": "python",
   "nbconvert_exporter": "python",
   "pygments_lexer": "ipython3",
   "version": "3.9.13"
  }
 },
 "nbformat": 4,
 "nbformat_minor": 5
}
